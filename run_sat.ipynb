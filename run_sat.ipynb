{
 "cells": [
  {
   "cell_type": "code",
   "execution_count": 16,
   "id": "b98a3696",
   "metadata": {},
   "outputs": [
    {
     "name": "stdout",
     "output_type": "stream",
     "text": [
      "Note: you may need to restart the kernel to use updated packages.\n"
     ]
    }
   ],
   "source": [
    "# ───────────────────────────── 00‑setup ─────────────────────────────\n",
    "%pip install -r requirements.txt --quiet\n",
    "import sys, pathlib, os\n",
    "sys.path.append(str(pathlib.Path.cwd() / \"code\"))\n",
    "\n",
    "PROJECT_DIR   = pathlib.Path().cwd()\n",
    "DATA_DIR      = PROJECT_DIR / \"data\"         \n",
    "NLTK_DIR      = DATA_DIR / \"nltk_data\"\n",
    "KAGGLE_DIR    = DATA_DIR / \"kaggle_cache\"\n",
    "\n",
    "os.environ[\"NLTK_DATA\"] = str(NLTK_DIR)\n",
    "os.environ[\"KAGGLEHUB_CACHE\"] = str(KAGGLE_DIR)\n",
    "\n",
    "NLTK_DIR.mkdir(parents=True, exist_ok=True)\n",
    "KAGGLE_DIR.mkdir(parents=True, exist_ok=True)\n",
    "\n",
    "import nltk\n",
    "if str(NLTK_DIR) not in nltk.data.path:\n",
    "    nltk.data.path.append(str(NLTK_DIR))"
   ]
  },
  {
   "cell_type": "code",
   "execution_count": 10,
   "id": "7cf6f403",
   "metadata": {},
   "outputs": [
    {
     "name": "stdout",
     "output_type": "stream",
     "text": [
      "Device: cpu\n"
     ]
    }
   ],
   "source": [
    "# ───────────────────────────── 01‑imports ────────────────────────────\n",
    "from models import ShowAttendTell\n",
    "from datasets import get_flickr8k_splits, collate_fn\n",
    "from training import TrainingConfig, train_and_evaluate\n",
    "import torch, torchvision.transforms as T\n",
    "\n",
    "device = \"cuda\" if torch.cuda.is_available() else \"cpu\"\n",
    "print(\"Device:\", device)"
   ]
  },
  {
   "cell_type": "code",
   "execution_count": 19,
   "id": "cd770c0f",
   "metadata": {},
   "outputs": [
    {
     "name": "stdout",
     "output_type": "stream",
     "text": [
      "[Info] Skipped 5 captions with missing images.\n",
      "Vocabulary size: 8921\n",
      "Train: 30000, Val: 5000, Test: 5000\n",
      "Vocab size: 8921\n"
     ]
    }
   ],
   "source": [
    "# ───────────────────────────── 02‑data ──────────────────────────────\n",
    "import kagglehub, nltk\n",
    "data_dir = kagglehub.dataset_download(\"ashish2001/original-flickr8k-dataset\")\n",
    "nltk.download(\"punkt_tab\",   download_dir=str(NLTK_DIR), quiet=True)\n",
    "nltk.download(\"wordnet\", download_dir=str(NLTK_DIR), quiet=True)\n",
    "\n",
    "transform = T.Compose([\n",
    "    T.Resize((256,256)),\n",
    "    T.RandomCrop(224),\n",
    "    T.RandomHorizontalFlip(),\n",
    "    T.ToTensor(),\n",
    "    T.Normalize(mean=[0.485,0.456,0.406],\n",
    "                std=[0.229,0.224,0.225])\n",
    "])\n",
    "\n",
    "train_ds, val_ds, test_ds, vocab = get_flickr8k_splits(data_dir, transform)\n",
    "print(\"Vocab size:\", len(vocab))"
   ]
  },
  {
   "cell_type": "code",
   "execution_count": 20,
   "id": "d24804f8",
   "metadata": {},
   "outputs": [],
   "source": [
    "# ───────────────────────────── 03‑model ─────────────────────────────\n",
    "model = ShowAttendTell(vocab_size=len(vocab),\n",
    "                       backbone=\"resnet50\",\n",
    "                       finetune=True,\n",
    "                       embed_dim=512,\n",
    "                       hidden_dim=512,\n",
    "                       attn_dim=512,\n",
    "                       dropout=0.2,\n",
    "                       use_double_attention=True,\n",
    "                       use_hard_attention=False)\n",
    "criterion = torch.nn.CrossEntropyLoss(label_smoothing=0.1, ignore_index=0)\n",
    "\n",
    "cfg = TrainingConfig(epochs=5,     # quick smoke‑test\n",
    "                     batch_size=64,\n",
    "                     lr=1e-4,\n",
    "                     save_every=2)"
   ]
  },
  {
   "cell_type": "code",
   "execution_count": null,
   "id": "d592083f",
   "metadata": {},
   "outputs": [],
   "source": [
    "# ───────────────────────────── 04‑train ─────────────────────────────\n",
    "model, *_ = train_and_evaluate(model, train_ds, val_ds,\n",
    "                               criterion, cfg, len(vocab),\n",
    "                               save_dir=\"results\")"
   ]
  },
  {
   "cell_type": "code",
   "execution_count": null,
   "id": "133afb74",
   "metadata": {},
   "outputs": [],
   "source": [
    "# ───────────────────────────── 05‑visualise ─────────────────────────\n",
    "from visualize import generate_sample_captions, visualize_attention_paper_style\n",
    "import random, os\n",
    "\n",
    "indices = random.sample(range(len(test_ds)), 3)\n",
    "samples = generate_sample_captions(model, test_ds, vocab, device,\n",
    "                                   indices, beam_size=8)\n",
    "os.makedirs(\"results/vis\", exist_ok=True)\n",
    "for i, s in enumerate(samples):\n",
    "    img_path = os.path.join(data_dir, \"Flickr8k_Dataset\",\n",
    "                            \"Flicker8k_Dataset\", test_ds.dataset.image_names[\n",
    "                                test_ds.indices[s['dataset_idx']]])\n",
    "    visualize_attention_paper_style(\n",
    "        img_path, s['prediction_indices'], s['attention_maps'],\n",
    "        vocab, reference_caption=s['reference'],\n",
    "        save_path=f\"results/vis/sample_{i+1}.png\")"
   ]
  }
 ],
 "metadata": {
  "kernelspec": {
   "display_name": "cs4782-final",
   "language": "python",
   "name": "python3"
  },
  "language_info": {
   "codemirror_mode": {
    "name": "ipython",
    "version": 3
   },
   "file_extension": ".py",
   "mimetype": "text/x-python",
   "name": "python",
   "nbconvert_exporter": "python",
   "pygments_lexer": "ipython3",
   "version": "3.11.12"
  }
 },
 "nbformat": 4,
 "nbformat_minor": 5
}
